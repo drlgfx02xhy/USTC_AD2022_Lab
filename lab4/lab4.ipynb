{
 "cells": [
  {
   "cell_type": "code",
   "execution_count": 1,
   "metadata": {},
   "outputs": [],
   "source": [
    "import pandas as pd\n",
    "import matplotlib\n",
    "import matplotlib.pyplot as plt\n",
    "import seaborn as sns\n",
    "import numpy as np\n",
    "import json\n",
    "from sklearn.preprocessing import StandardScaler\n",
    "from sklearn.preprocessing import MinMaxScaler\n",
    "from scipy import interpolate\n",
    "%matplotlib inline\n",
    "sns.set_context(\"paper\")  \n",
    "sns.set(rc={'figure.figsize': (10, 8)})  # 设置画板大小\n",
    "sns.set_style('whitegrid')\n",
    "pd.set_option('display.max_columns', None)\n",
    "pd.set_option('display.max_rows', 500)"
   ]
  },
  {
   "cell_type": "code",
   "execution_count": 2,
   "metadata": {},
   "outputs": [],
   "source": [
    "DIY_path = './data/DIY_df.csv'\n",
    "DIY = pd.read_csv(DIY_path, encoding='utf-8')\n",
    "def split(descp, col_name):\n",
    "    # split the column into 4 parts according to the quartile\n",
    "    # return the 3 split point\n",
    "    tgt = descp[col_name]\n",
    "    split1 = tgt['25%']\n",
    "    split2 = tgt['50%']\n",
    "    split3 = tgt['75%']\n",
    "    split_points = [split1, split2, split3]\n",
    "    return split_points\n",
    "def hierarchy(df):\n",
    "\tcol_names = df.columns\n",
    "\tdescp = df.describe()\n",
    "\tfor col_name in col_names:\n",
    "\t\tsplit_points = split(descp, col_name)\n",
    "\t\tfor i in range(len(df[col_name])):\n",
    "\t\t\tif df[col_name][i] < split_points[0]:\n",
    "\t\t\t\tdf[col_name][i] = 1\n",
    "\t\t\telif df[col_name][i] < split_points[1]:\n",
    "\t\t\t\tdf[col_name][i] = 2\n",
    "\t\t\telif df[col_name][i] < split_points[2]:\n",
    "\t\t\t\tdf[col_name][i] = 3\n",
    "\t\t\telse:\n",
    "\t\t\t\tdf[col_name][i] = 4\n",
    "\treturn df\n",
    "hier_DIY = hierarchy(DIY)\n",
    "# save the dier_DIY dataframe\n",
    "hier_DIY.to_csv('./data/hier_DIY.csv', encoding='utf-8', index=False)"
   ]
  },
  {
   "cell_type": "code",
   "execution_count": 59,
   "metadata": {},
   "outputs": [],
   "source": [
    "hier_DIY_path = './data/hier_DIY.csv'"
   ]
  },
  {
   "cell_type": "code",
   "execution_count": 60,
   "metadata": {},
   "outputs": [],
   "source": [
    "hier_DIY = pd.read_csv(hier_DIY_path, encoding='utf-8')"
   ]
  },
  {
   "cell_type": "code",
   "execution_count": 61,
   "metadata": {},
   "outputs": [
    {
     "name": "stdout",
     "output_type": "stream",
     "text": [
      "2.0    13268\n",
      "3.0    10132\n",
      "4.0     8730\n",
      "Name: PRNT_EDU, dtype: int64\n",
      "4.0    11938\n",
      "3.0    11081\n",
      "2.0     9111\n",
      "Name: STDY_EVNRNMNT, dtype: int64\n",
      "2.0    15910\n",
      "4.0     8460\n",
      "3.0     7760\n",
      "Name: LF_QLTY, dtype: int64\n",
      "2.0    14584\n",
      "4.0    11336\n",
      "3.0     6210\n",
      "Name: PRNT_CR, dtype: int64\n",
      "3.0    22975\n",
      "4.0     9155\n",
      "Name: EX_RPT, dtype: int64\n",
      "2.0    15805\n",
      "4.0     8210\n",
      "3.0     8115\n",
      "Name: STY, dtype: int64\n",
      "3.0    11538\n",
      "2.0    11359\n",
      "4.0     9233\n",
      "Name: PEER, dtype: int64\n",
      "2.0    12943\n",
      "3.0    10442\n",
      "4.0     8745\n",
      "Name: TCHR, dtype: int64\n",
      "2.0    12622\n",
      "4.0    10353\n",
      "3.0     9155\n",
      "Name: SKIP, dtype: int64\n",
      "2.0    12067\n",
      "3.0    10155\n",
      "4.0     9908\n",
      "Name: CLS1, dtype: int64\n",
      "2.0    15852\n",
      "4.0     8238\n",
      "3.0     8040\n",
      "Name: CLS2, dtype: int64\n",
      "2.0    15016\n",
      "4.0     8814\n",
      "3.0     8300\n",
      "Name: CLS3, dtype: int64\n",
      "1.0    8033\n",
      "4.0    8033\n",
      "2.0    8032\n",
      "3.0    8032\n",
      "Name: KNLDG, dtype: int64\n",
      "3.0    17660\n",
      "4.0    14470\n",
      "Name: REPEAT, dtype: int64\n"
     ]
    }
   ],
   "source": [
    "cols = hier_DIY.columns\n",
    "for col in cols:\n",
    "    print(hier_DIY[col].value_counts())"
   ]
  },
  {
   "cell_type": "code",
   "execution_count": null,
   "metadata": {},
   "outputs": [],
   "source": [
    "def Naive_Bayes(df):\n",
    "\t# calculate the prior probability\n",
    "\tprior = df.groupby('class').size()/len(df)\n",
    "\t# calculate the conditional probability\n",
    "\tcond_prob = df.groupby('class').mean()\n",
    "\t# calculate the posterior probability\n",
    "\tposterior = pd.DataFrame(index=prior.index)\n",
    "\tfor col in df.columns:\n",
    "\t\tposterior[col] = df[col].apply(lambda x: cond_prob[col][x])\n",
    "\tposterior = posterior.apply(lambda x: x*prior)\n",
    "\tposterior = posterior.apply(lambda x: x/posterior.sum(axis=1))\n",
    "\treturn posterior"
   ]
  },
  {
   "cell_type": "code",
   "execution_count": 65,
   "metadata": {},
   "outputs": [],
   "source": [
    "prior = df.groupby('PRNT_EDU').size()/len(df)"
   ]
  },
  {
   "cell_type": "code",
   "execution_count": 66,
   "metadata": {},
   "outputs": [
    {
     "data": {
      "text/plain": [
       "PRNT_EDU\n",
       "2.0    0.412947\n",
       "3.0    0.315344\n",
       "4.0    0.271709\n",
       "dtype: float64"
      ]
     },
     "execution_count": 66,
     "metadata": {},
     "output_type": "execute_result"
    }
   ],
   "source": [
    "prior"
   ]
  },
  {
   "cell_type": "code",
   "execution_count": 68,
   "metadata": {},
   "outputs": [
    {
     "data": {
      "text/html": [
       "<div>\n",
       "<style scoped>\n",
       "    .dataframe tbody tr th:only-of-type {\n",
       "        vertical-align: middle;\n",
       "    }\n",
       "\n",
       "    .dataframe tbody tr th {\n",
       "        vertical-align: top;\n",
       "    }\n",
       "\n",
       "    .dataframe thead th {\n",
       "        text-align: right;\n",
       "    }\n",
       "</style>\n",
       "<table border=\"1\" class=\"dataframe\">\n",
       "  <thead>\n",
       "    <tr style=\"text-align: right;\">\n",
       "      <th></th>\n",
       "      <th>STDY_EVNRNMNT</th>\n",
       "      <th>LF_QLTY</th>\n",
       "      <th>PRNT_CR</th>\n",
       "      <th>EX_RPT</th>\n",
       "      <th>STY</th>\n",
       "      <th>PEER</th>\n",
       "      <th>TCHR</th>\n",
       "      <th>SKIP</th>\n",
       "      <th>CLS1</th>\n",
       "      <th>CLS2</th>\n",
       "      <th>CLS3</th>\n",
       "      <th>KNLDG</th>\n",
       "      <th>REPEAT</th>\n",
       "    </tr>\n",
       "    <tr>\n",
       "      <th>PRNT_EDU</th>\n",
       "      <th></th>\n",
       "      <th></th>\n",
       "      <th></th>\n",
       "      <th></th>\n",
       "      <th></th>\n",
       "      <th></th>\n",
       "      <th></th>\n",
       "      <th></th>\n",
       "      <th></th>\n",
       "      <th></th>\n",
       "      <th></th>\n",
       "      <th></th>\n",
       "      <th></th>\n",
       "    </tr>\n",
       "  </thead>\n",
       "  <tbody>\n",
       "    <tr>\n",
       "      <th>2.0</th>\n",
       "      <td>3.022762</td>\n",
       "      <td>2.782710</td>\n",
       "      <td>2.946488</td>\n",
       "      <td>3.248267</td>\n",
       "      <td>2.739071</td>\n",
       "      <td>2.932771</td>\n",
       "      <td>2.885891</td>\n",
       "      <td>2.934806</td>\n",
       "      <td>2.907220</td>\n",
       "      <td>2.743141</td>\n",
       "      <td>2.796955</td>\n",
       "      <td>2.562707</td>\n",
       "      <td>3.421691</td>\n",
       "    </tr>\n",
       "    <tr>\n",
       "      <th>3.0</th>\n",
       "      <td>3.132846</td>\n",
       "      <td>2.758389</td>\n",
       "      <td>2.861725</td>\n",
       "      <td>3.326984</td>\n",
       "      <td>2.789479</td>\n",
       "      <td>2.917687</td>\n",
       "      <td>2.864094</td>\n",
       "      <td>2.936044</td>\n",
       "      <td>2.948381</td>\n",
       "      <td>2.760462</td>\n",
       "      <td>2.814647</td>\n",
       "      <td>2.417588</td>\n",
       "      <td>3.480458</td>\n",
       "    </tr>\n",
       "    <tr>\n",
       "      <th>4.0</th>\n",
       "      <td>3.135052</td>\n",
       "      <td>2.757274</td>\n",
       "      <td>2.869759</td>\n",
       "      <td>3.291867</td>\n",
       "      <td>2.770905</td>\n",
       "      <td>2.954181</td>\n",
       "      <td>2.850286</td>\n",
       "      <td>2.913402</td>\n",
       "      <td>2.953608</td>\n",
       "      <td>2.796220</td>\n",
       "      <td>2.813288</td>\n",
       "      <td>2.500344</td>\n",
       "      <td>3.458992</td>\n",
       "    </tr>\n",
       "  </tbody>\n",
       "</table>\n",
       "</div>"
      ],
      "text/plain": [
       "          STDY_EVNRNMNT   LF_QLTY   PRNT_CR    EX_RPT       STY      PEER  \\\n",
       "PRNT_EDU                                                                    \n",
       "2.0            3.022762  2.782710  2.946488  3.248267  2.739071  2.932771   \n",
       "3.0            3.132846  2.758389  2.861725  3.326984  2.789479  2.917687   \n",
       "4.0            3.135052  2.757274  2.869759  3.291867  2.770905  2.954181   \n",
       "\n",
       "              TCHR      SKIP      CLS1      CLS2      CLS3     KNLDG    REPEAT  \n",
       "PRNT_EDU                                                                        \n",
       "2.0       2.885891  2.934806  2.907220  2.743141  2.796955  2.562707  3.421691  \n",
       "3.0       2.864094  2.936044  2.948381  2.760462  2.814647  2.417588  3.480458  \n",
       "4.0       2.850286  2.913402  2.953608  2.796220  2.813288  2.500344  3.458992  "
      ]
     },
     "execution_count": 68,
     "metadata": {},
     "output_type": "execute_result"
    }
   ],
   "source": [
    "cond_prob = df.groupby('PRNT_EDU').mean()\n",
    "cond_prob"
   ]
  }
 ],
 "metadata": {
  "interpreter": {
   "hash": "d7e4d6bb4b00b7f4667f3096eb47d74f349ad76a8efb7f42b28eee8c620ab688"
  },
  "kernelspec": {
   "display_name": "Python 3.9.7 ('torch')",
   "language": "python",
   "name": "python3"
  },
  "language_info": {
   "codemirror_mode": {
    "name": "ipython",
    "version": 3
   },
   "file_extension": ".py",
   "mimetype": "text/x-python",
   "name": "python",
   "nbconvert_exporter": "python",
   "pygments_lexer": "ipython3",
   "version": "3.9.7"
  },
  "orig_nbformat": 4
 },
 "nbformat": 4,
 "nbformat_minor": 2
}
